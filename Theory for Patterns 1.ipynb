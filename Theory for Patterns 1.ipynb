{
 "cells": [
  {
   "cell_type": "markdown",
   "id": "543d2664",
   "metadata": {},
   "source": [
    "#### INTRODUCTION TO PATTERNS"
   ]
  },
  {
   "cell_type": "markdown",
   "id": "b8954c53",
   "metadata": {},
   "source": [
    "1.How many rows to print?(outer loop condition)\n",
    "2.How many columns to print for ith row?(outer loop body and inner loop condition)\n",
    "3.What to print is function of N,rows,columns.(inner loop body)"
   ]
  },
  {
   "cell_type": "markdown",
   "id": "f8d4d3ab",
   "metadata": {},
   "source": [
    "#### FIRST PATTERNS"
   ]
  },
  {
   "cell_type": "markdown",
   "id": "a8a4d0b0",
   "metadata": {},
   "source": [
    "Print the pattern below\n",
    "****\n",
    "****\n",
    "****\n",
    "****"
   ]
  },
  {
   "cell_type": "code",
   "execution_count": 1,
   "id": "3b660bf0",
   "metadata": {},
   "outputs": [
    {
     "name": "stdout",
     "output_type": "stream",
     "text": [
      "4\n",
      "****\n",
      "****\n",
      "****\n",
      "****\n"
     ]
    }
   ],
   "source": [
    "n = int(input())\n",
    "i = 1\n",
    "while i <= n:\n",
    "    j = 1\n",
    "    while j <= n:\n",
    "        print(\"*\",end='')\n",
    "        j = j + 1\n",
    "    print()\n",
    "    i = i+1"
   ]
  },
  {
   "cell_type": "markdown",
   "id": "e751c5a7",
   "metadata": {},
   "source": [
    "#### SQUARE PATTERNS"
   ]
  },
  {
   "cell_type": "markdown",
   "id": "a57ba72b",
   "metadata": {},
   "source": [
    "Q)Print the following pattern\n",
    "1 1 1 1\n",
    "2 2 2 2 \n",
    "3 3 3 3 \n",
    "4 4 4 4 "
   ]
  },
  {
   "cell_type": "code",
   "execution_count": 1,
   "id": "95e92db7",
   "metadata": {},
   "outputs": [
    {
     "name": "stdout",
     "output_type": "stream",
     "text": [
      "4\n",
      "1111\n",
      "2222\n",
      "3333\n",
      "4444\n"
     ]
    }
   ],
   "source": [
    "n = int(input())\n",
    "i = 1\n",
    "while i<=n:\n",
    "    j = 1\n",
    "    while j<=n:\n",
    "        print(i,end='')\n",
    "        j = j+1\n",
    "    print()\n",
    "    i = i+1"
   ]
  },
  {
   "cell_type": "markdown",
   "id": "2563c8f5",
   "metadata": {},
   "source": [
    "Q)Print the following pattern\n",
    "1 2 3 4\n",
    "1 2 3 4\n",
    "1 2 3 4\n",
    "1 2 3 4"
   ]
  },
  {
   "cell_type": "code",
   "execution_count": 2,
   "id": "0ce9dc0a",
   "metadata": {},
   "outputs": [
    {
     "name": "stdout",
     "output_type": "stream",
     "text": [
      "4\n",
      "1234\n",
      "1234\n",
      "1234\n",
      "1234\n"
     ]
    }
   ],
   "source": [
    "n = int(input())\n",
    "i = 1\n",
    "while i<=n:\n",
    "    j = 1\n",
    "    while j<=n:\n",
    "        print(j,end='')\n",
    "        j = j+1\n",
    "    print()\n",
    "    i = i+1"
   ]
  },
  {
   "cell_type": "markdown",
   "id": "19ea8506",
   "metadata": {},
   "source": [
    "Q)Print the following pattern\n",
    "4 3 2 1\n",
    "4 3 2 1\n",
    "4 3 2 1\n",
    "4 3 2 1"
   ]
  },
  {
   "cell_type": "code",
   "execution_count": 3,
   "id": "63f95150",
   "metadata": {},
   "outputs": [
    {
     "name": "stdout",
     "output_type": "stream",
     "text": [
      "4\n",
      "4321\n",
      "4321\n",
      "4321\n",
      "4321\n"
     ]
    }
   ],
   "source": [
    "n = int(input())\n",
    "i = 1\n",
    "while i<=n:\n",
    "    j = n\n",
    "    while j>=1:\n",
    "        print(j,end='')\n",
    "        j = j-1\n",
    "    print()\n",
    "    i = i+1"
   ]
  },
  {
   "cell_type": "code",
   "execution_count": 4,
   "id": "4040a224",
   "metadata": {},
   "outputs": [
    {
     "name": "stdout",
     "output_type": "stream",
     "text": [
      "4\n",
      "4321\n",
      "4321\n",
      "4321\n",
      "4321\n"
     ]
    }
   ],
   "source": [
    "# Alternative to above solution\n",
    "n = int(input())\n",
    "i = 1\n",
    "while i<=n:\n",
    "    j = 1\n",
    "    while j<=n:\n",
    "        print(n-j+1,end='')\n",
    "        j = j+1\n",
    "    print()\n",
    "    i = i+1"
   ]
  },
  {
   "cell_type": "markdown",
   "id": "61fc6d38",
   "metadata": {},
   "source": [
    "#### TRIANGULAR PATTERNS"
   ]
  },
  {
   "cell_type": "markdown",
   "id": "5e71666c",
   "metadata": {},
   "source": [
    "Q)Print the following\n",
    "1\n",
    "12\n",
    "123\n",
    "1234"
   ]
  },
  {
   "cell_type": "code",
   "execution_count": 5,
   "id": "776836fe",
   "metadata": {},
   "outputs": [
    {
     "name": "stdout",
     "output_type": "stream",
     "text": [
      "4\n",
      "1\n",
      "12\n",
      "123\n",
      "1234\n"
     ]
    }
   ],
   "source": [
    "n = int(input())\n",
    "i = 1\n",
    "while i<=n:\n",
    "    j = 1\n",
    "    while j<=i:\n",
    "        print(j,end='')\n",
    "        j = j+1\n",
    "    print()\n",
    "    i = i+1"
   ]
  },
  {
   "cell_type": "markdown",
   "id": "2ca23d83",
   "metadata": {},
   "source": [
    "Q)Print the following\n",
    "1\n",
    "23\n",
    "345\n",
    "4567"
   ]
  },
  {
   "cell_type": "code",
   "execution_count": 7,
   "id": "02589837",
   "metadata": {},
   "outputs": [
    {
     "name": "stdout",
     "output_type": "stream",
     "text": [
      "4\n",
      "1\n",
      "23\n",
      "345\n",
      "4567\n"
     ]
    }
   ],
   "source": [
    "n = int(input())\n",
    "i = 1\n",
    "while i<=n:\n",
    "    j = 1\n",
    "    p = i\n",
    "    while j<=i:\n",
    "        print(p,end=\"\")\n",
    "        j = j+1\n",
    "        p = p+1\n",
    "    print()\n",
    "    i = i+1"
   ]
  },
  {
   "cell_type": "markdown",
   "id": "2f78671c",
   "metadata": {},
   "source": [
    "Q)Print the following\n",
    "1\n",
    "23\n",
    "456\n",
    "78910"
   ]
  },
  {
   "cell_type": "code",
   "execution_count": 8,
   "id": "08a01ca1",
   "metadata": {},
   "outputs": [
    {
     "name": "stdout",
     "output_type": "stream",
     "text": [
      "4\n",
      "1\n",
      "23\n",
      "456\n",
      "78910\n"
     ]
    }
   ],
   "source": [
    "n = int(input())\n",
    "i = 1\n",
    "p = 1\n",
    "while i<=n:\n",
    "    j = 1\n",
    "    while j<=i:\n",
    "        print(p,end=\"\")\n",
    "        j = j+1\n",
    "        p = p+1\n",
    "    print()\n",
    "    i = i+1"
   ]
  },
  {
   "cell_type": "markdown",
   "id": "781b51a4",
   "metadata": {},
   "source": [
    "#### CHARACTER PATTERNS"
   ]
  },
  {
   "cell_type": "markdown",
   "id": "ea497ca3",
   "metadata": {},
   "source": [
    "Q)Print the pattern below\n",
    "ABCD\n",
    "ABCD\n",
    "ABCD\n",
    "ABCD"
   ]
  },
  {
   "cell_type": "code",
   "execution_count": 11,
   "id": "aaa41e66",
   "metadata": {},
   "outputs": [
    {
     "name": "stdout",
     "output_type": "stream",
     "text": [
      "2\n",
      "B\n"
     ]
    }
   ],
   "source": [
    "# print the kth element 'A' + k -1\n",
    "k = int(input())\n",
    "x = ord('A')\n",
    "asciitarget = x+k-1\n",
    "targetChar = chr(asciitarget)\n",
    "print(targetChar)"
   ]
  },
  {
   "cell_type": "code",
   "execution_count": 10,
   "id": "22461895",
   "metadata": {},
   "outputs": [
    {
     "data": {
      "text/plain": [
       "'B'"
      ]
     },
     "execution_count": 10,
     "metadata": {},
     "output_type": "execute_result"
    }
   ],
   "source": [
    "ord('A') # To find ASCII value of A\n",
    "chr(66) # character corresponding to ascii value 66"
   ]
  },
  {
   "cell_type": "code",
   "execution_count": 14,
   "id": "8f22dc7b",
   "metadata": {},
   "outputs": [
    {
     "name": "stdout",
     "output_type": "stream",
     "text": [
      "4\n",
      "ABCD\n",
      "ABCD\n",
      "ABCD\n",
      "ABCD\n"
     ]
    }
   ],
   "source": [
    "n = int(input())\n",
    "i = 1\n",
    "while i<=n:\n",
    "    j = 1\n",
    "    while j<=n:\n",
    "        charP = chr(ord('A') +j -1)\n",
    "        print(charP,end='')\n",
    "        j = j+1\n",
    "    print()\n",
    "    i = i+1"
   ]
  },
  {
   "cell_type": "markdown",
   "id": "ffa498b3",
   "metadata": {},
   "source": [
    "Q)Print the pattern below\n",
    "ABCD\n",
    "BCDE\n",
    "CDEF\n",
    "DEFG\n"
   ]
  },
  {
   "cell_type": "code",
   "execution_count": 16,
   "id": "df118e6e",
   "metadata": {},
   "outputs": [
    {
     "name": "stdout",
     "output_type": "stream",
     "text": [
      "4\n",
      "ABCD\n",
      "BCDE\n",
      "CDEF\n",
      "DEFG\n"
     ]
    }
   ],
   "source": [
    "n = int(input())\n",
    "i = 1\n",
    "while i<=n:\n",
    "    j = 1\n",
    "    startChar = chr(ord('A') +i -1)\n",
    "    while j<=n:\n",
    "        charP = chr(ord(startChar) +j -1)\n",
    "        print(charP,end='')\n",
    "        j = j+1\n",
    "    print()\n",
    "    i = i+1"
   ]
  },
  {
   "cell_type": "code",
   "execution_count": null,
   "id": "89a751ac",
   "metadata": {},
   "outputs": [],
   "source": []
  }
 ],
 "metadata": {
  "kernelspec": {
   "display_name": "Python 3 (ipykernel)",
   "language": "python",
   "name": "python3"
  },
  "language_info": {
   "codemirror_mode": {
    "name": "ipython",
    "version": 3
   },
   "file_extension": ".py",
   "mimetype": "text/x-python",
   "name": "python",
   "nbconvert_exporter": "python",
   "pygments_lexer": "ipython3",
   "version": "3.9.7"
  }
 },
 "nbformat": 4,
 "nbformat_minor": 5
}
