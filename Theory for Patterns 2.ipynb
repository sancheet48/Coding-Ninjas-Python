{
 "cells": [
  {
   "cell_type": "markdown",
   "id": "d1e29cfb",
   "metadata": {},
   "source": [
    "#### INVERTED TRIANGLE"
   ]
  },
  {
   "cell_type": "markdown",
   "id": "070784b2",
   "metadata": {},
   "source": [
    "Print the following Pattern\n",
    "****\n",
    "***\n",
    "**\n",
    "*"
   ]
  },
  {
   "cell_type": "code",
   "execution_count": 2,
   "id": "0bb74666",
   "metadata": {},
   "outputs": [
    {
     "name": "stdout",
     "output_type": "stream",
     "text": [
      "4\n",
      "****\n",
      "***\n",
      "**\n",
      "*\n"
     ]
    }
   ],
   "source": [
    "n = int(input())\n",
    "i = 1\n",
    "while i<=n:\n",
    "    j = 1\n",
    "    while j<= (n-i+1):\n",
    "        print(\"*\",end=\"\")\n",
    "        j = j+1\n",
    "    print()\n",
    "    i = i+1"
   ]
  },
  {
   "cell_type": "markdown",
   "id": "5e868ea4",
   "metadata": {},
   "source": [
    "#### REVERSED PATTERN"
   ]
  },
  {
   "cell_type": "markdown",
   "id": "70e65c8c",
   "metadata": {},
   "source": [
    "Q)Print the following pattern\n",
    "   *\n",
    "  **\n",
    " ***\n",
    "****"
   ]
  },
  {
   "cell_type": "code",
   "execution_count": 3,
   "id": "f36ff312",
   "metadata": {},
   "outputs": [
    {
     "name": "stdout",
     "output_type": "stream",
     "text": [
      "4\n",
      "   *\n",
      "  **\n",
      " ***\n",
      "****\n"
     ]
    }
   ],
   "source": [
    "n = int(input())\n",
    "i = 1\n",
    "while i<=n:\n",
    "    spaces = 1\n",
    "    while spaces <= n-i:\n",
    "        print(' ',end=\"\")\n",
    "        spaces = spaces +1\n",
    "        \n",
    "    stars = 1\n",
    "    while stars <=i:\n",
    "        print(\"*\",end='')\n",
    "        stars = stars +1\n",
    "    print()\n",
    "    i = i+1"
   ]
  },
  {
   "cell_type": "markdown",
   "id": "fb2d08cc",
   "metadata": {},
   "source": [
    "#### ISOCELES PATTERN"
   ]
  },
  {
   "cell_type": "code",
   "execution_count": 4,
   "id": "6dc61fbb",
   "metadata": {},
   "outputs": [
    {
     "name": "stdout",
     "output_type": "stream",
     "text": [
      "4\n",
      "   1\n",
      "  12\n",
      " 123\n",
      "1234\n"
     ]
    }
   ],
   "source": [
    "# Part 1\n",
    "n = int(input())\n",
    "i = 1\n",
    "while i<=n:\n",
    "    spaces = 1\n",
    "    while spaces <= n-i:\n",
    "        print(\" \",end=\"\")\n",
    "        spaces = spaces + 1\n",
    "        \n",
    "    num = 1\n",
    "    j = 1\n",
    "    while j <= i:\n",
    "        print(num,end=\"\")\n",
    "        num = num +1\n",
    "        j = j+1\n",
    "    print()\n",
    "    i = i + 1"
   ]
  },
  {
   "cell_type": "code",
   "execution_count": 5,
   "id": "f17e3076",
   "metadata": {},
   "outputs": [
    {
     "name": "stdout",
     "output_type": "stream",
     "text": [
      "4\n",
      "   1\n",
      "  121\n",
      " 12321\n",
      "1234321\n"
     ]
    }
   ],
   "source": [
    "# Part 2\n",
    "n = int(input())\n",
    "i = 1\n",
    "while i<=n:\n",
    "    spaces = 1\n",
    "    while spaces <= n-i:\n",
    "        print(\" \",end=\"\")\n",
    "        spaces = spaces + 1\n",
    "        \n",
    "    num = 1\n",
    "    j = 1\n",
    "    # increasing sequence\n",
    "    while j <= i:\n",
    "        print(num,end=\"\")\n",
    "        num = num +1\n",
    "        j = j+1\n",
    "    # decreasing sequence\n",
    "    p = i-1\n",
    "    while p>=1:\n",
    "        print(p,end=\"\")\n",
    "        p = p-1\n",
    "        \n",
    "    print()\n",
    "    i = i + 1"
   ]
  },
  {
   "cell_type": "code",
   "execution_count": null,
   "id": "be87e768",
   "metadata": {},
   "outputs": [],
   "source": []
  },
  {
   "cell_type": "code",
   "execution_count": null,
   "id": "b3c11d19",
   "metadata": {},
   "outputs": [],
   "source": []
  },
  {
   "cell_type": "code",
   "execution_count": null,
   "id": "02fe6eaa",
   "metadata": {},
   "outputs": [],
   "source": []
  },
  {
   "cell_type": "code",
   "execution_count": null,
   "id": "47a1421e",
   "metadata": {},
   "outputs": [],
   "source": []
  },
  {
   "cell_type": "code",
   "execution_count": null,
   "id": "b26ccee2",
   "metadata": {},
   "outputs": [],
   "source": []
  },
  {
   "cell_type": "code",
   "execution_count": null,
   "id": "aa84ba73",
   "metadata": {},
   "outputs": [],
   "source": []
  }
 ],
 "metadata": {
  "kernelspec": {
   "display_name": "Python 3 (ipykernel)",
   "language": "python",
   "name": "python3"
  },
  "language_info": {
   "codemirror_mode": {
    "name": "ipython",
    "version": 3
   },
   "file_extension": ".py",
   "mimetype": "text/x-python",
   "name": "python",
   "nbconvert_exporter": "python",
   "pygments_lexer": "ipython3",
   "version": "3.9.7"
  }
 },
 "nbformat": 4,
 "nbformat_minor": 5
}
