{
 "cells": [
  {
   "cell_type": "code",
   "execution_count": 1,
   "id": "912daa3d",
   "metadata": {},
   "outputs": [
    {
     "name": "stdout",
     "output_type": "stream",
     "text": [
      "Hello World\n",
      "Hello World\n"
     ]
    }
   ],
   "source": [
    "print('Hello World')\n",
    "print(\"Hello World\")"
   ]
  },
  {
   "cell_type": "markdown",
   "id": "adb22127",
   "metadata": {},
   "source": [
    "##### Variables in Python"
   ]
  },
  {
   "cell_type": "code",
   "execution_count": 3,
   "id": "eaa39c24",
   "metadata": {},
   "outputs": [
    {
     "name": "stdout",
     "output_type": "stream",
     "text": [
      "30\n"
     ]
    }
   ],
   "source": [
    "a = 10\n",
    "b = 20\n",
    "s = a+b\n",
    "print(s)"
   ]
  },
  {
   "cell_type": "markdown",
   "id": "63ff7e3e",
   "metadata": {},
   "source": [
    "##### Data types"
   ]
  },
  {
   "cell_type": "code",
   "execution_count": 8,
   "id": "71cff349",
   "metadata": {},
   "outputs": [
    {
     "name": "stdout",
     "output_type": "stream",
     "text": [
      "<class 'int'>\n",
      "hello\n",
      "<class 'str'>\n"
     ]
    }
   ],
   "source": [
    "a = 10\n",
    "print(type(a))\n",
    "a = \"hello\"\n",
    "print(a)\n",
    "print(type(a))"
   ]
  },
  {
   "cell_type": "markdown",
   "id": "5ca042e7",
   "metadata": {},
   "source": [
    "##### Python Numbers"
   ]
  },
  {
   "cell_type": "code",
   "execution_count": 9,
   "id": "5af24dde",
   "metadata": {},
   "outputs": [
    {
     "name": "stdout",
     "output_type": "stream",
     "text": [
      "<class 'int'>\n",
      "<class 'float'>\n",
      "<class 'complex'>\n"
     ]
    }
   ],
   "source": [
    "a1 = 1\n",
    "a2 = 3.4\n",
    "a3 = 4 + 5j\n",
    "print(type(a1))\n",
    "print(type(a2))\n",
    "print(type(a3))"
   ]
  },
  {
   "cell_type": "code",
   "execution_count": 10,
   "id": "7ecd6651",
   "metadata": {},
   "outputs": [
    {
     "name": "stdout",
     "output_type": "stream",
     "text": [
      "1802706971216\n",
      "1802706971248\n"
     ]
    },
    {
     "data": {
      "text/plain": [
       "11"
      ]
     },
     "execution_count": 10,
     "metadata": {},
     "output_type": "execute_result"
    }
   ],
   "source": [
    "a = 10\n",
    "print(id(a))\n",
    "a = a+1\n",
    "print(id(a))\n",
    "a"
   ]
  },
  {
   "cell_type": "code",
   "execution_count": 11,
   "id": "e6cfc672",
   "metadata": {},
   "outputs": [
    {
     "name": "stdout",
     "output_type": "stream",
     "text": [
      "1802706971216\n",
      "1802706971216\n"
     ]
    }
   ],
   "source": [
    "# Both are having the same id\n",
    "a = 10\n",
    "b = 10\n",
    "print(id(a))\n",
    "print(id(b))"
   ]
  },
  {
   "cell_type": "code",
   "execution_count": 12,
   "id": "0507c8dd",
   "metadata": {},
   "outputs": [
    {
     "name": "stdout",
     "output_type": "stream",
     "text": [
      "1802787989104\n",
      "1802787987728\n"
     ]
    }
   ],
   "source": [
    "# Only for nos between -5 to 256 there will be optimization\n",
    "a = 1000\n",
    "b = 1000\n",
    "print(id(a))\n",
    "print(id(b))"
   ]
  },
  {
   "cell_type": "code",
   "execution_count": 13,
   "id": "222a10d8",
   "metadata": {},
   "outputs": [
    {
     "name": "stdout",
     "output_type": "stream",
     "text": [
      "1802706971216\n",
      "1802706971216\n"
     ]
    }
   ],
   "source": [
    "a = 10\n",
    "id1 = id(a)\n",
    "b = a + 2-2\n",
    "id2 = id(b)\n",
    "print(id1)\n",
    "print(id2)"
   ]
  },
  {
   "cell_type": "markdown",
   "id": "c7ac286a",
   "metadata": {},
   "source": [
    "##### Limit of Integers"
   ]
  },
  {
   "cell_type": "markdown",
   "id": "27e69518",
   "metadata": {},
   "source": [
    "There is no limit set by python how much large data values it can store in a variable. But its \n",
    "limit is decided by how much memeory is allocated by the system to Python."
   ]
  },
  {
   "cell_type": "markdown",
   "id": "83df0dce",
   "metadata": {},
   "source": [
    "##### Arithmetic Operators"
   ]
  },
  {
   "cell_type": "markdown",
   "id": "1d834394",
   "metadata": {},
   "source": [
    "Operator\tMeaning\tExample\n",
    "+\tAdd two operands or unary plus\n",
    "-\tSubtract right operand from the left or unary minus\t\n",
    "*\tMultiply two operands\n",
    "/\tDivide left operand by the right one (always results into float)\n",
    "%\tModulus - remainder of the division of left operand by the right\n",
    "//\tFloor division - division that results into whole number adjusted to the left in the number line\n",
    "**\tExponent - left operand raised to the power of right\tx**y (x to the power y)\n"
   ]
  },
  {
   "cell_type": "code",
   "execution_count": 14,
   "id": "3607b6c4",
   "metadata": {},
   "outputs": [
    {
     "data": {
      "text/plain": [
       "1.5"
      ]
     },
     "execution_count": 14,
     "metadata": {},
     "output_type": "execute_result"
    }
   ],
   "source": [
    "2 * 3 / 4 "
   ]
  },
  {
   "cell_type": "code",
   "execution_count": 15,
   "id": "b00ed741",
   "metadata": {},
   "outputs": [
    {
     "data": {
      "text/plain": [
       "1"
      ]
     },
     "execution_count": 15,
     "metadata": {},
     "output_type": "execute_result"
    }
   ],
   "source": [
    "2 * 3 // 4 # Left to Right associativity"
   ]
  },
  {
   "cell_type": "code",
   "execution_count": 17,
   "id": "25abe8e3",
   "metadata": {},
   "outputs": [
    {
     "name": "stdout",
     "output_type": "stream",
     "text": [
      "24.0\n"
     ]
    }
   ],
   "source": [
    "# simple interest\n",
    "p = 100\n",
    "r = 12\n",
    "t = 2\n",
    "si = (p * r * t) / 100\n",
    "print(si)"
   ]
  },
  {
   "cell_type": "code",
   "execution_count": 18,
   "id": "2e7c74f2",
   "metadata": {},
   "outputs": [
    {
     "name": "stdout",
     "output_type": "stream",
     "text": [
      "37.77777777777778\n",
      "37\n"
     ]
    }
   ],
   "source": [
    "# fahrenheit to celcius\n",
    "f = 100\n",
    "c = (f-32) * 5/9\n",
    "print(c)\n",
    "ci = (f - 32) * 5//9\n",
    "print(ci)"
   ]
  },
  {
   "cell_type": "markdown",
   "id": "60e5de5b",
   "metadata": {},
   "source": [
    "##### Taking inputs"
   ]
  },
  {
   "cell_type": "code",
   "execution_count": 19,
   "id": "9e3c2cd3",
   "metadata": {},
   "outputs": [
    {
     "name": "stdout",
     "output_type": "stream",
     "text": [
      "5\n",
      "7\n",
      "12\n"
     ]
    }
   ],
   "source": [
    "a = int(input())\n",
    "b = int(input())\n",
    "print(a+b)"
   ]
  },
  {
   "cell_type": "code",
   "execution_count": null,
   "id": "6f5aa18c",
   "metadata": {},
   "outputs": [],
   "source": []
  }
 ],
 "metadata": {
  "kernelspec": {
   "display_name": "Python 3 (ipykernel)",
   "language": "python",
   "name": "python3"
  },
  "language_info": {
   "codemirror_mode": {
    "name": "ipython",
    "version": 3
   },
   "file_extension": ".py",
   "mimetype": "text/x-python",
   "name": "python",
   "nbconvert_exporter": "python",
   "pygments_lexer": "ipython3",
   "version": "3.9.7"
  }
 },
 "nbformat": 4,
 "nbformat_minor": 5
}
