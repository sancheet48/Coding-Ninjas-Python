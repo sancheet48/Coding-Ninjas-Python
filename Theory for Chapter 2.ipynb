{
 "cells": [
  {
   "cell_type": "markdown",
   "id": "02158b68",
   "metadata": {},
   "source": [
    "#### Boolean datatype"
   ]
  },
  {
   "cell_type": "code",
   "execution_count": 1,
   "id": "4a0a1ef8",
   "metadata": {},
   "outputs": [
    {
     "data": {
      "text/plain": [
       "bool"
      ]
     },
     "execution_count": 1,
     "metadata": {},
     "output_type": "execute_result"
    }
   ],
   "source": [
    "a = True\n",
    "b = False\n",
    "type(b)"
   ]
  },
  {
   "cell_type": "markdown",
   "id": "15d2f77e",
   "metadata": {},
   "source": [
    "*RELATIONAL OPERATORS*"
   ]
  },
  {
   "cell_type": "markdown",
   "id": "f0ae4ab2",
   "metadata": {},
   "source": [
    "Realtional Operators are used to compare values. It returns either True or False according to the condition."
   ]
  },
  {
   "cell_type": "markdown",
   "id": "b50918b3",
   "metadata": {},
   "source": [
    ">\tGreater than - True if left operand is greater than the right\tx > y\n",
    "<\tLess than - True if left operand is less than the right\tx < y\n",
    "==\tEqual to - True if both operands are equal\tx == y\n",
    "!=\tNot equal to - True if operands are not equal\tx != y\n",
    ">=\tGreater than or equal to - True if left operand is greater than or equal to the right\tx >= y\n",
    "<=\tLess than or equal to - True if left operand is less than or equal to the right\tx <= y"
   ]
  },
  {
   "cell_type": "code",
   "execution_count": 2,
   "id": "1a1d88b5",
   "metadata": {},
   "outputs": [
    {
     "name": "stdout",
     "output_type": "stream",
     "text": [
      "x > y is False\n",
      "x < y is True\n",
      "x == y is False\n",
      "x != y is True\n",
      "x >= y is False\n",
      "x <= y is True\n"
     ]
    }
   ],
   "source": [
    "x = 10\n",
    "y = 12\n",
    "\n",
    "# Output: x > y is False\n",
    "print('x > y is',x>y)\n",
    "\n",
    "# Output: x < y is True\n",
    "print('x < y is',x<y)\n",
    "\n",
    "# Output: x == y is False\n",
    "print('x == y is',x==y)\n",
    "\n",
    "# Output: x != y is True\n",
    "print('x != y is',x!=y)\n",
    "\n",
    "# Output: x >= y is False\n",
    "print('x >= y is',x>=y)\n",
    "\n",
    "# Output: x <= y is True\n",
    "print('x <= y is',x<=y)"
   ]
  },
  {
   "cell_type": "markdown",
   "id": "58146cb4",
   "metadata": {},
   "source": [
    "*LOGICAL OPERATORS*"
   ]
  },
  {
   "cell_type": "markdown",
   "id": "53899e07",
   "metadata": {},
   "source": [
    "and\tTrue if both the operands are true\tx and y\n",
    "or\tTrue if either of the operands is true\tx or y\n",
    "not\tTrue if operand is false (complements the operand)\tnot x"
   ]
  },
  {
   "cell_type": "code",
   "execution_count": 3,
   "id": "43a318df",
   "metadata": {},
   "outputs": [
    {
     "name": "stdout",
     "output_type": "stream",
     "text": [
      "x and y is False\n",
      "x or y is True\n",
      "not x is False\n"
     ]
    }
   ],
   "source": [
    "x = True\n",
    "y = False\n",
    "\n",
    "print('x and y is',x and y)\n",
    "print('x or y is',x or y)\n",
    "print('not x is',not x)"
   ]
  },
  {
   "cell_type": "markdown",
   "id": "fa65fcba",
   "metadata": {},
   "source": [
    "#### Introduction to If else"
   ]
  },
  {
   "cell_type": "code",
   "execution_count": 4,
   "id": "698a92af",
   "metadata": {},
   "outputs": [
    {
     "name": "stdout",
     "output_type": "stream",
     "text": [
      "I am inside if\n"
     ]
    }
   ],
   "source": [
    "a = True\n",
    "if a:\n",
    "    print(\"I am inside if\")\n",
    "else:\n",
    "    print(\"I am inside else\")"
   ]
  },
  {
   "cell_type": "code",
   "execution_count": 6,
   "id": "937b3d33",
   "metadata": {},
   "outputs": [
    {
     "name": "stdout",
     "output_type": "stream",
     "text": [
      "12\n",
      "Even\n"
     ]
    }
   ],
   "source": [
    "# Check for even or odd\n",
    "n = int(input())\n",
    "if n%2 == 0:\n",
    "    print(\"Even\")\n",
    "else:\n",
    "    print(\"Odd\")"
   ]
  },
  {
   "cell_type": "markdown",
   "id": "cf37a53c",
   "metadata": {},
   "source": [
    "#### Using Relational and Logical Operators"
   ]
  },
  {
   "cell_type": "code",
   "execution_count": 1,
   "id": "d60caa95",
   "metadata": {},
   "outputs": [
    {
     "name": "stdout",
     "output_type": "stream",
     "text": [
      "12\n",
      "13\n",
      "Bothn are grater than 10\n"
     ]
    }
   ],
   "source": [
    "a = int(input())\n",
    "b = int(input())\n",
    "c1 = a > 10\n",
    "c2 = b > 10\n",
    "r = c1 and c2\n",
    "if r:\n",
    "    print(\"Both are greater than 10\")\n",
    "else:\n",
    "    print(\"No they are not\")"
   ]
  },
  {
   "cell_type": "code",
   "execution_count": null,
   "id": "7762d259",
   "metadata": {},
   "outputs": [],
   "source": [
    "a = int(input())\n",
    "b = int(input())\n",
    "if a > 10 and b > 10:\n",
    "    print(\"Both are greater than 10\")\n",
    "else:\n",
    "    print(\"No they are not\")"
   ]
  },
  {
   "cell_type": "markdown",
   "id": "5b27be72",
   "metadata": {},
   "source": [
    "#### Using Else If"
   ]
  },
  {
   "cell_type": "code",
   "execution_count": null,
   "id": "059a48aa",
   "metadata": {},
   "outputs": [],
   "source": [
    "a = int(input())\n",
    "b = int(input())\n",
    "c = int(input())\n",
    "print(\"The maximum number is \")\n",
    "if a >= b and a >= c: # If we do not give = then it will fail for a = 3,b = 3, c = 1\n",
    "    print(a)\n",
    "elif b >= a and b >= c:\n",
    "    print(b)\n",
    "else:\n",
    "    print(c)"
   ]
  },
  {
   "cell_type": "code",
   "execution_count": 3,
   "id": "50e44b04",
   "metadata": {},
   "outputs": [
    {
     "name": "stdout",
     "output_type": "stream",
     "text": [
      "9\n",
      "Green\n"
     ]
    }
   ],
   "source": [
    "n = int(input())\n",
    "if n>10:\n",
    "    print(\"Red\")\n",
    "elif n >= 5:\n",
    "    print(\"Green\")\n",
    "elif n >= 0:\n",
    "    print(\"Yellow\")"
   ]
  },
  {
   "cell_type": "markdown",
   "id": "418a1330",
   "metadata": {},
   "source": [
    "#### Nested Conditionals"
   ]
  },
  {
   "cell_type": "code",
   "execution_count": null,
   "id": "e12af780",
   "metadata": {},
   "outputs": [],
   "source": [
    "n = int(input())\n",
    "if n%2 == 0:\n",
    "    print(\"n is even\")\n",
    "    if n == 0:\n",
    "        print(\"n is zero\")\n",
    "else:\n",
    "    print(\"n is odd\")"
   ]
  },
  {
   "cell_type": "code",
   "execution_count": 6,
   "id": "505251e1",
   "metadata": {},
   "outputs": [
    {
     "name": "stdout",
     "output_type": "stream",
     "text": [
      "B\n"
     ]
    }
   ],
   "source": [
    "if True or True:\n",
    "    if False and True or False:\n",
    "        print('A')\n",
    "    elif False and False or True and True:\n",
    "        print('B')\n",
    "    else:\n",
    "        print('C')\n",
    "else:\n",
    "     print('D')"
   ]
  },
  {
   "cell_type": "markdown",
   "id": "ccdefe13",
   "metadata": {},
   "source": [
    "#### While Loop"
   ]
  },
  {
   "cell_type": "code",
   "execution_count": 5,
   "id": "e3af95f5",
   "metadata": {},
   "outputs": [
    {
     "name": "stdout",
     "output_type": "stream",
     "text": [
      "5\n",
      "1\n",
      "2\n",
      "3\n",
      "4\n",
      "5\n"
     ]
    }
   ],
   "source": [
    "n = int(input())\n",
    "count = 1\n",
    "while count<= n:\n",
    "    print(count)\n",
    "    count = count + 1 "
   ]
  },
  {
   "cell_type": "markdown",
   "id": "2ae2f162",
   "metadata": {},
   "source": [
    "#### Primality Checking"
   ]
  },
  {
   "cell_type": "code",
   "execution_count": 3,
   "id": "caacb76f",
   "metadata": {},
   "outputs": [
    {
     "name": "stdout",
     "output_type": "stream",
     "text": [
      "14\n",
      "Not Prime\n"
     ]
    }
   ],
   "source": [
    "# Check Prime\n",
    "n = int(input())\n",
    "d = 2\n",
    "flag = False\n",
    "while d < n:\n",
    "    if n % d == 0:\n",
    "        flag = True\n",
    "    d = d + 1\n",
    "    \n",
    "if flag == True:\n",
    "    print(\"Not Prime\")\n",
    "else:\n",
    "    print(\"Prime\")"
   ]
  },
  {
   "cell_type": "markdown",
   "id": "429e0cde",
   "metadata": {},
   "source": [
    "#### Nested Loops"
   ]
  },
  {
   "cell_type": "code",
   "execution_count": 6,
   "id": "5fb08429",
   "metadata": {},
   "outputs": [
    {
     "name": "stdout",
     "output_type": "stream",
     "text": [
      "10\n",
      "2\n",
      "3\n",
      "5\n",
      "7\n"
     ]
    }
   ],
   "source": [
    "# Print all prime nos between 2 to n\n",
    "n = int(input())\n",
    "k = 2\n",
    "while k <= n:\n",
    "    d = 2\n",
    "    flag = False\n",
    "    while d < k:\n",
    "        if k % d == 0:\n",
    "            flag = True\n",
    "        d = d + 1\n",
    "    \n",
    "    if not flag:\n",
    "        print(k)\n",
    "    k = k + 1"
   ]
  },
  {
   "cell_type": "code",
   "execution_count": 12,
   "id": "fca848c9",
   "metadata": {},
   "outputs": [
    {
     "name": "stdout",
     "output_type": "stream",
     "text": [
      "0\n",
      "100\n",
      "20\n",
      "0\t-17.77777777777778\n",
      "20\t-6.666666666666667\n",
      "40\t4.444444444444445\n",
      "60\t15.555555555555555\n",
      "80\t26.666666666666668\n",
      "100\t37.77777777777778\n"
     ]
    }
   ],
   "source": [
    "S = int(input())\n",
    "E = int(input())\n",
    "W = int(input())\n",
    "\n",
    "while S <= E:\n",
    "    cel = ((S-32)*5)/9\n",
    "    print(f\"{S}\\t{cel}\")\n",
    "    S = S + 20\n",
    "    "
   ]
  },
  {
   "cell_type": "code",
   "execution_count": null,
   "id": "bf521dab",
   "metadata": {},
   "outputs": [],
   "source": []
  }
 ],
 "metadata": {
  "kernelspec": {
   "display_name": "Python 3 (ipykernel)",
   "language": "python",
   "name": "python3"
  },
  "language_info": {
   "codemirror_mode": {
    "name": "ipython",
    "version": 3
   },
   "file_extension": ".py",
   "mimetype": "text/x-python",
   "name": "python",
   "nbconvert_exporter": "python",
   "pygments_lexer": "ipython3",
   "version": "3.9.7"
  }
 },
 "nbformat": 4,
 "nbformat_minor": 5
}
